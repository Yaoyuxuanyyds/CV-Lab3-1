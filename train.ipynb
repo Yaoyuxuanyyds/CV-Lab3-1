{
 "cells": [
  {
   "cell_type": "code",
   "execution_count": 1,
   "metadata": {},
   "outputs": [],
   "source": [
    "from argparse import Namespace\n",
    "import torch\n",
    "import torch.nn as nn\n",
    "import torchvision.models as models\n",
    "from get_dataset import GetTransformedDataset\n",
    "from simclr import simclr_framework\n",
    "\n",
    "\n",
    "class ResNet18(nn.Module):\n",
    "    def __init__(self, out_dim):\n",
    "        super(ResNet18, self).__init__()\n",
    "        self.backbone = self._get_basemodel(out_dim)\n",
    "        dim_mlp = self.backbone.fc.in_features\n",
    "        self.backbone.fc = nn.Sequential(\n",
    "            nn.Linear(dim_mlp, dim_mlp), nn.ReLU(), self.backbone.fc)\n",
    "\n",
    "    def _get_basemodel(self, out_dim):\n",
    "        return models.resnet18(weights=None, num_classes=out_dim)\n",
    "\n",
    "    def forward(self, x):\n",
    "        return self.backbone(x)"
   ]
  },
  {
   "cell_type": "code",
   "execution_count": 2,
   "metadata": {},
   "outputs": [],
   "source": [
    "def train(args):\n",
    "\n",
    "    print(args.device)\n",
    "\n",
    "    dataset = GetTransformedDataset()\n",
    "    train_dataset = dataset.get_tiny_imagenet_train(args.n_views)\n",
    "    train_loader = torch.utils.data.DataLoader(train_dataset, batch_size=args.batch_size, shuffle=True, num_workers=args.workers, pin_memory=True, drop_last=True)\n",
    "\n",
    "    model = ResNet18(out_dim=args.out_dim)\n",
    "\n",
    "    optimizer = torch.optim.Adam(model.parameters(), args.lr, weight_decay=args.weight_decay)\n",
    "\n",
    "    # scheduler = torch.optim.lr_scheduler.CosineAnnealingLR(optimizer, T_max=len(train_loader), eta_min=0, last_epoch=-1)\n",
    "    scheduler = torch.optim.lr_scheduler.LambdaLR(optimizer, lr_lambda=lambda epoch: 1.0)\n",
    " \n",
    "    simclr = simclr_framework(model=model, optimizer=optimizer, scheduler=scheduler, args=args)\n",
    "\n",
    "    print(\"=\"*50)\n",
    "    print(f\"Trining SimCLR_TIN_lr{args.lr}_wd{args.weight_decay}_temperature{args.temperature}_bt{args.batch_size}_e{args.epochs}\")\n",
    "    print(\"=\"*50)\n",
    "    print('training started..')\n",
    "    simclr.train(train_loader) \n",
    "    print('training completed..')\n"
   ]
  },
  {
   "cell_type": "code",
   "execution_count": null,
   "metadata": {},
   "outputs": [
    {
     "name": "stdout",
     "output_type": "stream",
     "text": [
      "cuda\n",
      "==================================================\n",
      "Trining SimCLR_TIN_lr0.001_wd0_temperature0.07_bt512_e500\n",
      "==================================================\n",
      "training started..\n"
     ]
    },
    {
     "name": "stderr",
     "output_type": "stream",
     "text": [
      "  0%|          | 0/195 [00:00<?, ?it/s]/usr/local/miniconda3/envs/CV/lib/python3.8/site-packages/torch/autograd/graph.py:744: UserWarning: Plan failed with a cudnnException: CUDNN_BACKEND_EXECUTION_PLAN_DESCRIPTOR: cudnnFinalize Descriptor Failed cudnn_status: CUDNN_STATUS_NOT_SUPPORTED (Triggered internally at ../aten/src/ATen/native/cudnn/Conv_v8.cpp:919.)\n",
      "  return Variable._execution_engine.run_backward(  # Calls into the C++ engine to run the backward pass\n",
      "100%|██████████| 195/195 [02:08<00:00,  1.51it/s]\n",
      "100%|██████████| 195/195 [02:11<00:00,  1.48it/s]\n",
      "100%|██████████| 195/195 [02:09<00:00,  1.50it/s]\n",
      "100%|██████████| 195/195 [02:08<00:00,  1.52it/s]\n",
      "100%|██████████| 195/195 [02:08<00:00,  1.52it/s]\n",
      "100%|██████████| 195/195 [02:18<00:00,  1.41it/s]\n",
      "100%|██████████| 195/195 [02:07<00:00,  1.53it/s]\n",
      "100%|██████████| 195/195 [02:08<00:00,  1.51it/s]\n",
      "100%|██████████| 195/195 [02:18<00:00,  1.41it/s]\n",
      "100%|██████████| 195/195 [02:11<00:00,  1.49it/s]\n",
      "100%|██████████| 195/195 [02:09<00:00,  1.51it/s]\n",
      "100%|██████████| 195/195 [02:19<00:00,  1.40it/s]\n",
      "100%|██████████| 195/195 [02:07<00:00,  1.52it/s]\n",
      "100%|██████████| 195/195 [02:09<00:00,  1.50it/s]\n",
      "100%|██████████| 195/195 [02:07<00:00,  1.53it/s]\n",
      "100%|██████████| 195/195 [02:15<00:00,  1.44it/s]\n",
      "100%|██████████| 195/195 [02:08<00:00,  1.51it/s]\n",
      "100%|██████████| 195/195 [02:09<00:00,  1.51it/s]\n",
      "100%|██████████| 195/195 [02:11<00:00,  1.48it/s]\n",
      "100%|██████████| 195/195 [02:11<00:00,  1.48it/s]\n",
      "100%|██████████| 195/195 [02:11<00:00,  1.48it/s]\n",
      " 78%|███████▊  | 153/195 [01:42<00:24,  1.69it/s]"
     ]
    }
   ],
   "source": [
    "temp_list = [0.07]\n",
    "lr_list = [1e-3]\n",
    "wd_list = [0]\n",
    "for temp in temp_list:\n",
    "    for lr in lr_list:\n",
    "        for wd in wd_list:\n",
    "            args = Namespace\n",
    "            # Hyperparameters\n",
    "            args.batch_size = 512\n",
    "            args.epochs = 500\n",
    "            args.lr = lr\n",
    "            args.temperature = temp\n",
    "            args.weight_decay = wd\n",
    "            # Other settings\n",
    "            args.fp16_precision = False\n",
    "            args.device = torch.device('cuda')\n",
    "            args.gpu_index = 0\n",
    "            args.log_every_n_steps = 1\n",
    "            args.n_views = 2\n",
    "            args.out_dim = 100\n",
    "            args.seed = 1\n",
    "            args.workers = 4\n",
    "            args.log_dir = f\"/root/Lab3-1/logs/simclr_TIN_lr{args.lr}_wd{args.weight_decay}_temp{args.temperature}_bt{args.batch_size}_e{args.epochs}\"\n",
    "            train(args)"
   ]
  }
 ],
 "metadata": {
  "kernelspec": {
   "display_name": "CV",
   "language": "python",
   "name": "python3"
  },
  "language_info": {
   "codemirror_mode": {
    "name": "ipython",
    "version": 3
   },
   "file_extension": ".py",
   "mimetype": "text/x-python",
   "name": "python",
   "nbconvert_exporter": "python",
   "pygments_lexer": "ipython3",
   "version": "3.8.10"
  }
 },
 "nbformat": 4,
 "nbformat_minor": 4
}
